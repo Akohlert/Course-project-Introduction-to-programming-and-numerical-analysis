{
 "cells": [
  {
   "cell_type": "markdown",
   "metadata": {},
   "source": [
    "# Model project - Externalities and Pigou taxes"
   ]
  },
  {
   "cell_type": "markdown",
   "metadata": {},
   "source": [
    "Our model project consists of a microeconomic model describing the inefficiencies of pollution from production from a social economic point of view. We introduce a demand and a supply function, but the production of the suppliers is associated with a negative externality cost.\n",
    "\n",
    "We apply model analysis methods to find the market and social equlibria output and prices, where we include graphs to illustrate these equlibria. As a method to solve this social inefficiency from the market powers, we introduce a Pigou tax and calculate the optimal size of this."
   ]
  },
  {
   "cell_type": "markdown",
   "metadata": {},
   "source": [
    "**Setup**"
   ]
  },
  {
   "cell_type": "code",
   "execution_count": 1,
   "metadata": {},
   "outputs": [],
   "source": [
    "#Importing the relevant packages\n",
    "from mpmath import mp\n",
    "import sympy as sm\n",
    "from sympy import *\n",
    "import numpy as np\n",
    "import scipy as sp\n",
    "from scipy import linalg\n",
    "from scipy import optimize\n",
    "\n",
    "import matplotlib.pyplot as plt\n",
    "from matplotlib import cm\n",
    "from mpl_toolkits.mplot3d import Axes3D\n",
    "\n",
    "import ipywidgets as widgets\n",
    "from ipywidgets import interact, fixed\n",
    "\n",
    "sm.init_printing(use_unicode=True) #This code enables pretty printing for the mathematical symbols we will use"
   ]
  },
  {
   "cell_type": "code",
   "execution_count": 2,
   "metadata": {},
   "outputs": [],
   "source": [
    "#Defining the relevant variables and parameters from our model with the sympy symbols function\n",
    "xd = sm.symbols('x_d') #The amount of goods demanded by consumers\n",
    "xs = sm.symbols('x_s') #The amount of goods supplied by suppliers\n",
    "A = sm.symbols('A') #The price consumers are willing to pay if they can only get an infinitely small amount of goods (assumed declining willingess to pay)\n",
    "B = sm.symbols('B') #The price the suppliers are willing to sell for if they can only sell an infinitely small amount of goods\n",
    "p = sm.symbols('p') #The price of goods\n",
    "alpha = sm.symbols('alpha') #A measure of the consumers' sensitivity to changes in prices\n",
    "beta = sm.symbols('beta') #A measure of the suppliers' sensitivity to changes in prices\n",
    "delta = sm.symbols('\\delta') #An abritrarily chosen multiplier that creates the negative externality through production\n",
    "x = sm.symbols('x') #The quantity of the goods traded\n",
    "xc = sm.symbols('xc') #Used for plotting x\n",
    "deltax = sm.symbols('deltax') #Used for plotting delta\n"
   ]
  },
  {
   "cell_type": "code",
   "execution_count": 3,
   "metadata": {},
   "outputs": [
    {
     "data": {
      "image/png": "[encoded data removed]",
      "text/latex": [
       "$$\\left ( x_{d}, \\quad x_{s}, \\quad A, \\quad B, \\quad p, \\quad \\alpha, \\quad \\beta, \\quad \\delta, \\quad x\\right )$$"
      ],
      "text/plain": [
       "(x_d, xₛ, A, B, p, α, β, \\delta, x)"
      ]
     },
     "execution_count": 3,
     "metadata": {},
     "output_type": "execute_result"
    }
   ],
   "source": [
    "#Checking whether the variables and parameters are correctly defined\n",
    "xd, xs, A, B, p, alpha, beta, delta, x"
   ]
  },
  {
   "cell_type": "markdown",
   "metadata": {},
   "source": [
    "**The Model**"
   ]
  },
  {
   "cell_type": "markdown",
   "metadata": {},
   "source": [
    "To set up our model, we firstly introduce the following demand and supply functions from the consumers and suppliers of the economy respectively including the negative externality function. It is a simple economy-setup with only one representative consumer, one representative supplier and a single type of good. The agents seek to trade based on the following equations. The producers and the consumers does not care about the negative externality and therefore this doesn't impact their trading behaviour. The equations are as follows:\n",
    "\n",
    "Demand: $x_{d}=\\frac{A-p}{a}$\n",
    "\n",
    "Supply: $x_{s}=\\frac{B+p}{\\beta}$\n",
    "\n",
    "Negative externality: $C_E(x)=(\\delta x)^2$\n",
    "\n",
    "Firstly, we define the demand and supply as follows:"
   ]
  },
  {
   "cell_type": "code",
   "execution_count": 4,
   "metadata": {},
   "outputs": [
    {
     "data": {
      "image/png": "[encoded data removed]",
      "text/latex": [
       "$$\\left ( \\frac{A - p}{\\alpha}, \\quad \\frac{B + p}{\\beta}, \\quad \\delta^{2} x^{2}\\right )$$"
      ],
      "text/plain": [
       "⎛A - p  B + p        2  2⎞\n",
       "⎜─────, ─────, \\delta ⋅x ⎟\n",
       "⎝  α      β              ⎠"
      ]
     },
     "execution_count": 4,
     "metadata": {},
     "output_type": "execute_result"
    }
   ],
   "source": [
    "demand = (A-p)/alpha\n",
    "supply = (B+p)/beta\n",
    "externality = (delta*x)**2\n",
    "demand, supply, externality #Prints the three definitions"
   ]
  },
  {
   "cell_type": "markdown",
   "metadata": {},
   "source": [
    "Firstly, from the demand and supply functions we can calculate the market price for the good by setting the two equal to each other and solving for $p$. This yields:"
   ]
  },
  {
   "cell_type": "code",
   "execution_count": 5,
   "metadata": {},
   "outputs": [
    {
     "data": {
      "image/png": "[encoded data removed]",
      "text/latex": [
       "$$\\left [ \\frac{A \\beta - B \\alpha}{\\alpha + \\beta}\\right ]$$"
      ],
      "text/plain": [
       "⎡A⋅β - B⋅α⎤\n",
       "⎢─────────⎥\n",
       "⎣  α + β  ⎦"
      ]
     },
     "execution_count": 5,
     "metadata": {},
     "output_type": "execute_result"
    }
   ],
   "source": [
    "#Setting demand and supply equal to each other and solving for p\n",
    "Marketprice = sm.solve(sm.Eq(demand,supply),p) #We use the sympy .Eq function to set the two equal to each other\n",
    "#and use the sympy solve function to solve for p in this equation. \n",
    "Marketprice "
   ]
  },
  {
   "cell_type": "markdown",
   "metadata": {},
   "source": [
    "From this result we see that the price - intuitively - is positively dependent on the consumers' initial valuation of the goods and negatively of the producers' initial valuation. This result can be inserted in either the demand or the supply function to obtain the amount of traded goods in equilibrium where supply equals demand. "
   ]
  },
  {
   "cell_type": "code",
   "execution_count": 6,
   "metadata": {},
   "outputs": [
    {
     "data": {
      "image/png": "[encoded data removed]",
      "text/latex": [
       "$$\\frac{A + B}{\\alpha + \\beta}$$"
      ],
      "text/plain": [
       "A + B\n",
       "─────\n",
       "α + β"
      ]
     },
     "execution_count": 6,
     "metadata": {},
     "output_type": "execute_result"
    }
   ],
   "source": [
    "#Finding the equilibrium output by inserting the marketprice into the demand function\n",
    "Marketoutput = demand.subs(p, Marketprice[0])\n",
    "#We use the .subs method to insert the marketprice result from before instead of p in the demand function. \n",
    "#As the marketprice expression is defined as a list-type, we include the index [0] to refer to the expression herein.\n",
    "sm.simplify(Marketoutput) #This function simplifies the marketoutput expression. "
   ]
  },
  {
   "cell_type": "code",
   "execution_count": 7,
   "metadata": {},
   "outputs": [
    {
     "data": {
      "image/png": "[encoded data removed]",
      "text/latex": [
       "$$\\frac{A + B}{\\alpha + \\beta}$$"
      ],
      "text/plain": [
       "A + B\n",
       "─────\n",
       "α + β"
      ]
     },
     "execution_count": 7,
     "metadata": {},
     "output_type": "execute_result"
    }
   ],
   "source": [
    "#We can check whether we get the same result by inserting the market price equilibrium into the supply function\n",
    "CheckMarketoutput = supply.subs(p, Marketprice[0]) #Same calculation procedure as in code cell above. \n",
    "sm.simplify(CheckMarketoutput)"
   ]
  },
  {
   "cell_type": "markdown",
   "metadata": {},
   "source": [
    "Luckily, we find that the two results are identical, which shows that the found price should be correct. \n",
    "From the marketoutput expression we once again see, that more goods are traded if consumers are willing to pay high prices for initial goods (through A) and suppliers are willing to supply them cheaply (through B). We also see that it depends negatively on the price sensitiviy of both the agents. "
   ]
  },
  {
   "cell_type": "markdown",
   "metadata": {},
   "source": [
    "Unfortunately, the production from the suppliers also create a negative externality due to pollution or some other externality. This is assumed to have a convex negative impact on society. This convex function can be seen from the graphical depiction below, where we as an example have set $\\delta=1$."
   ]
  },
  {
   "cell_type": "code",
   "execution_count": 12,
   "metadata": {},
   "outputs": [
    {
     "data": {
      "text/plain": [
       "<function matplotlib.pyplot.show(*args, **kw)>"
      ]
     },
     "execution_count": 12,
     "metadata": {},
     "output_type": "execute_result"
    },
    {
     "data": {
      "image/png": "[encoded data removed]",
      "text/plain": [
       "<Figure size 432x288 with 1 Axes>"
      ]
     },
     "metadata": {
      "needs_background": "light"
     },
     "output_type": "display_data"
    }
   ],
   "source": [
    "#We impose an externality cost of production due to emission\n",
    "ExternalityCost = (delta*xc)**2\n",
    "delta = 1\n",
    "np.linspace(0,2)\n",
    "plt.plot(xc,ExternalityCost)\n",
    "plt.xlabel(\"Quantity\")\n",
    "plt.ylabel(\"Costs from externality\")\n",
    "plt.title(\"The convex cost function of the externality\")\n",
    "plt.show"
   ]
  },
  {
   "cell_type": "markdown",
   "metadata": {},
   "source": [
    "In order to, find the social optimal quantity produces and the associated price, we start by calculating the marginal cost of the externality below. From this the convex nature of the externality is once again evident. We get:"
   ]
  },
  {
   "cell_type": "code",
   "execution_count": 13,
   "metadata": {},
   "outputs": [
    {
     "data": {
      "image/png": "[encoded data removed]",
      "text/latex": [
       "$$2 \\delta^{2} x$$"
      ],
      "text/plain": [
       "        2  \n",
       "2⋅\\delta ⋅x"
      ]
     },
     "execution_count": 13,
     "metadata": {},
     "output_type": "execute_result"
    }
   ],
   "source": [
    "#Finding the marginal externality cost by differentiating w.r.t. x\n",
    "MarginalExternalityCost = sm.diff(externality, x) #Using the sympy function \"diff\" to differentiate externality wrt.x\n",
    "MarginalExternalityCost #Printing the result"
   ]
  },
  {
   "cell_type": "markdown",
   "metadata": {},
   "source": [
    "We now also need to find the inverse supply function, which shall be added to the marginal externality cost to give us the social marginal cost of production. "
   ]
  },
  {
   "cell_type": "code",
   "execution_count": 14,
   "metadata": {},
   "outputs": [
    {
     "data": {
      "image/png": "[encoded data removed]",
      "text/latex": [
       "$$\\left [ - B + \\beta x\\right ]$$"
      ],
      "text/plain": [
       "[-B + β⋅x]"
      ]
     },
     "execution_count": 14,
     "metadata": {},
     "output_type": "execute_result"
    }
   ],
   "source": [
    "#Private marginal cost (the inverse supply function)\n",
    "PrivateMarginalCost = sm.solve(sm.Eq(supply,x),p) #We set the supply expression equal to x and solve for p. \n",
    "PrivateMarginalCost"
   ]
  },
  {
   "cell_type": "code",
   "execution_count": 15,
   "metadata": {},
   "outputs": [
    {
     "data": {
      "image/png": "[encoded data removed]",
      "text/latex": [
       "$$- B + 2 \\delta^{2} x + \\beta x$$"
      ],
      "text/plain": [
       "             2        \n",
       "-B + 2⋅\\delta ⋅x + β⋅x"
      ]
     },
     "execution_count": 15,
     "metadata": {},
     "output_type": "execute_result"
    }
   ],
   "source": [
    "#Social marginal cost is the sum of the private marginal cost and the marginal externality cost\n",
    "SocialMarginalCost = PrivateMarginalCost[0] + MarginalExternalityCost\n",
    "SocialMarginalCost"
   ]
  },
  {
   "cell_type": "markdown",
   "metadata": {},
   "source": [
    "Seen above is the social marginal cost function, which takes the negative effects of the externality into account and adds it to the supply function. As $\\delta>0$, the social marginal cost will be larger than the private cost from the suppliers. The social marginal cost curve will thus have a steeper slope than the supply curve.\n",
    "To now finally find the socially optimal amount of traded goods and the associated price, we start by finding the inverse demand function:"
   ]
  },
  {
   "cell_type": "code",
   "execution_count": 16,
   "metadata": {},
   "outputs": [
    {
     "data": {
      "image/png": "[encoded data removed]",
      "text/latex": [
       "$$\\left [ A - \\alpha x\\right ]$$"
      ],
      "text/plain": [
       "[A - α⋅x]"
      ]
     },
     "execution_count": 16,
     "metadata": {},
     "output_type": "execute_result"
    }
   ],
   "source": [
    "#Inverse demand curve\n",
    "InverseDemand = sm.solve(sm.Eq(demand,x),p)\n",
    "InverseDemand"
   ]
  },
  {
   "cell_type": "markdown",
   "metadata": {},
   "source": [
    "And we now set this inverse demand function equal to the social marginal cost and solve for x to find the optimal amount of traded goods:"
   ]
  },
  {
   "cell_type": "code",
   "execution_count": 17,
   "metadata": {},
   "outputs": [
    {
     "data": {
      "image/png": "[encoded data removed]",
      "text/latex": [
       "$$\\left [ \\frac{A + B}{2 \\delta^{2} + \\alpha + \\beta}\\right ]$$"
      ],
      "text/plain": [
       "⎡      A + B      ⎤\n",
       "⎢─────────────────⎥\n",
       "⎢        2        ⎥\n",
       "⎣2⋅\\delta  + α + β⎦"
      ]
     },
     "execution_count": 17,
     "metadata": {},
     "output_type": "execute_result"
    }
   ],
   "source": [
    "#Finding the social optimal output by setting the demand function equal to the social marginal cost\n",
    "SocialOptimal = sm.solve(sm.Eq(InverseDemand[0], SocialMarginalCost), x)\n",
    "SocialOptimal"
   ]
  },
  {
   "cell_type": "markdown",
   "metadata": {},
   "source": [
    "Now to finally find the optimal price, we insert this expression into the demand function:"
   ]
  },
  {
   "cell_type": "code",
   "execution_count": 18,
   "metadata": {},
   "outputs": [
    {
     "data": {
      "image/png": "[encoded data removed]",
      "text/latex": [
       "$$\\left [ \\frac{2 A \\delta^{2} + A \\beta - B \\alpha}{2 \\delta^{2} + \\alpha + \\beta}\\right ]$$"
      ],
      "text/plain": [
       "⎡          2            ⎤\n",
       "⎢2⋅A⋅\\delta  + A⋅β - B⋅α⎥\n",
       "⎢───────────────────────⎥\n",
       "⎢           2           ⎥\n",
       "⎣   2⋅\\delta  + α + β   ⎦"
      ]
     },
     "execution_count": 18,
     "metadata": {},
     "output_type": "execute_result"
    }
   ],
   "source": [
    "SocialOptimalPrice = sm.solve(sm.Eq(demand,SocialOptimal[0]),p)\n",
    "SocialOptimalPrice"
   ]
  },
  {
   "cell_type": "markdown",
   "metadata": {},
   "source": [
    "Which is the optimal price when considering the externality. "
   ]
  },
  {
   "cell_type": "markdown",
   "metadata": {},
   "source": [
    "**Graphing the economy**"
   ]
  },
  {
   "cell_type": "markdown",
   "metadata": {},
   "source": [
    "To give a graphical overview of the economy, we plot a graph below, where it is possible to change the value of the parameter $\\delta$ to give an insight in how the social cost and thereby the optimum depend greatly on this parameter. "
   ]
  },
  {
   "cell_type": "code",
   "execution_count": 19,
   "metadata": {},
   "outputs": [],
   "source": [
    "def PlotGraph(A, alpha, beta, B, delta): \n",
    "    #This function is able to plot the graphs of the demand, supply and SMC-functions with different parameter values.\n",
    "    \n",
    "    x = np.linspace(0,200) #Here we choose over which span the x quantity runs in the graph.\n",
    "    d = A-alpha*x #Defining the demand function \n",
    "    s = beta*x-B #Defining the supply function\n",
    "    smc = x*(beta+2*delta**2)-B #Defining the social marginal cost function\n",
    "        \n",
    "    plt.xlabel(\"Quantity\") #Labelling x-axis\n",
    "    plt.ylabel(\"Price\") #Labelling y-axis\n",
    "    plt.grid() #Putting a grid in the background of the graph\n",
    "    plt.title('Supply, demand and social marginal cost') #Adding title to graph\n",
    "    plt.plot(x, d, label='D') #Plotting and labelling demand function  \n",
    "    plt.plot(x, s, label='S') #Plotting and labelling supply function  \n",
    "    plt.plot(x, smc, label='SMC') #Plotting and labelling SMC function  \n",
    "    plt.legend(loc='upper right') #Choosing to put label names in upper right corner.\n"
   ]
  },
  {
   "cell_type": "code",
   "execution_count": 20,
   "metadata": {},
   "outputs": [
    {
     "data": {
      "application/vnd.jupyter.widget-view+json": {
       "model_id": "7fc16270bdb5482da252a02999aa2cca",
       "version_major": 2,
       "version_minor": 0
      },
      "text/plain": [
       "interactive(children=(FloatSlider(value=1.0, description='$\\\\delta$', max=2.0, step=0.05), Output()), _dom_cla…"
      ]
     },
     "metadata": {},
     "output_type": "display_data"
    },
    {
     "data": {
      "text/plain": [
       "<function __main__.PlotGraph(A, alpha, beta, B, delta)>"
      ]
     },
     "execution_count": 20,
     "metadata": {},
     "output_type": "execute_result"
    }
   ],
   "source": [
    "widgets.interact(PlotGraph,A=widgets.fixed(800), alpha=widgets.fixed(4), \n",
    "                 delta=widgets.FloatSlider(description=\"$\\delta$\", min=0.0, max=2 , step=0.05, value=1),\n",
    "                 B=widgets.fixed(0), beta=widgets.fixed(2))\n",
    "#These lines of code use the graphing function \"PlotGraph\" and adds a Floatslider, so the user can adjust\n",
    "#the value of the delta parameter. "
   ]
  },
  {
   "cell_type": "markdown",
   "metadata": {},
   "source": [
    "From this graph we clearly see that when $\\delta$ increases the socially optimal price also increases and thereby the quantity traded will be reduced. When $\\delta$ on the other hand reaches zero, the SMC and supply curve will be identical - so in the lack of externalities the social optimum will also be the market optimum. \n",
    "\n",
    "In this example, when externalities are present this is however not the case as neither the consumers nor the producers cares about the externality. To take this into account and reach the social optimum, we will now look at the effects of introducing a Pigou tax. "
   ]
  },
  {
   "cell_type": "markdown",
   "metadata": {},
   "source": [
    "**Pigou taxes**"
   ]
  },
  {
   "cell_type": "markdown",
   "metadata": {},
   "source": [
    "A Pigou tax is a tax that aims at correcting ineffecient market outcomes as with the current example. The tax will aim at increasing the price level of the specific good with the externality and thus, hopefully, affect the trading behaviour so the externality is reduced optimally. The optimal size of the Pigouvian tax is the difference between what the consumers are willing to pay and what the suppliers are willing to sell their goods for at the socially optimal traded quantity.\n",
    "\n",
    "We have already found the price level for the consumers in the social optimum, and now only need to find the price at which the suppliers are willing to sell at the social optimum. These to prices are:"
   ]
  },
  {
   "cell_type": "code",
   "execution_count": 21,
   "metadata": {},
   "outputs": [
    {
     "data": {
      "image/png": "[encoded data removed]",
      "text/latex": [
       "$$\\left ( \\left [ \\frac{A \\beta - 2 B \\delta^{2} - B \\alpha}{2 \\delta^{2} + \\alpha + \\beta}\\right ], \\quad \\left [ \\frac{2 A \\delta^{2} + A \\beta - B \\alpha}{2 \\delta^{2} + \\alpha + \\beta}\\right ]\\right )$$"
      ],
      "text/plain": [
       "⎛⎡                2      ⎤  ⎡          2            ⎤⎞\n",
       "⎜⎢A⋅β - 2⋅B⋅\\delta  - B⋅α⎥  ⎢2⋅A⋅\\delta  + A⋅β - B⋅α⎥⎟\n",
       "⎜⎢───────────────────────⎥, ⎢───────────────────────⎥⎟\n",
       "⎜⎢           2           ⎥  ⎢           2           ⎥⎟\n",
       "⎝⎣   2⋅\\delta  + α + β   ⎦  ⎣   2⋅\\delta  + α + β   ⎦⎠"
      ]
     },
     "execution_count": 21,
     "metadata": {},
     "output_type": "execute_result"
    }
   ],
   "source": [
    "#Inserting the social optimal output into the supply function\n",
    "SocialOptimalSupply = sm.solve(sm.Eq(SocialOptimal[0], supply), p)\n",
    "SocialOptimalSupply,SocialOptimalPrice"
   ]
  },
  {
   "cell_type": "markdown",
   "metadata": {},
   "source": [
    "And now we simply subtract the two from each other to get:"
   ]
  },
  {
   "cell_type": "code",
   "execution_count": 22,
   "metadata": {},
   "outputs": [
    {
     "data": {
      "image/png": "[encoded data removed]",
      "text/latex": [
       "$$\\frac{2 \\delta^{2} \\left(A + B\\right)}{2 \\delta^{2} + \\alpha + \\beta}$$"
      ],
      "text/plain": [
       "        2        \n",
       "2⋅\\delta ⋅(A + B)\n",
       "─────────────────\n",
       "        2        \n",
       "2⋅\\delta  + α + β"
      ]
     },
     "execution_count": 22,
     "metadata": {},
     "output_type": "execute_result"
    }
   ],
   "source": [
    "#The optimal pigou tax is the difference between the demand and supply\n",
    "PigouTax = SocialOptimalPrice[0] - SocialOptimalSupply[0]\n",
    "sm.simplify(PigouTax)"
   ]
  },
  {
   "cell_type": "markdown",
   "metadata": {},
   "source": [
    "Which is then the optimal size of the Pigouvian tax, that can bring the two agents of the economy to trade the desired level of goods from a social point of view. We will quickly have a graphical look at how the size of this tax is affected by the size of $\\delta$ as this is not necessarily clear from the expression above:"
   ]
  },
  {
   "cell_type": "code",
   "execution_count": 23,
   "metadata": {},
   "outputs": [
    {
     "data": {
      "text/plain": [
       "<function matplotlib.pyplot.show(*args, **kw)>"
      ]
     },
     "execution_count": 23,
     "metadata": {},
     "output_type": "execute_result"
    },
    {
     "data": {
      "image/png": "[encoded data removed]",
      "text/plain": [
       "<Figure size 432x288 with 1 Axes>"
      ]
     },
     "metadata": {
      "needs_background": "light"
     },
     "output_type": "display_data"
    }
   ],
   "source": [
    "#First we choose the parameter values for the graphing example below\n",
    "A = 800 \n",
    "B = 0\n",
    "alpha = 4\n",
    "beta = 2\n",
    "\n",
    "deltax = np.linspace(0,8) #Choosing the span in which delta should be plotted on the graph\n",
    "\n",
    "Pigoutax = (2*deltax**2*(A+B))/(2*deltax**2+alpha+beta) #Defining the function for the Pigouvian tax\n",
    "\n",
    "plt.plot(deltax,Pigoutax) #Plotting the graph and adding labels and titles. \n",
    "plt.xlabel(\"Delta\")\n",
    "plt.ylabel(\"Pigou\")\n",
    "plt.title(\"Pigoutax\")\n",
    "plt.show"
   ]
  },
  {
   "cell_type": "markdown",
   "metadata": {},
   "source": [
    "As before we have arbitrarily set the parameter values - specifically $A=800, B=0, \\alpha=4$ and $\\beta=2$. We see that as $\\delta$ increases so does the optimal size of the Pigouvian tax. The optimal size is concave wrt. the size of $\\delta$ and converges towards the size of A, which is the highest possible amount a consumer will be willing to pay for an infinitely small amount of goods. \n"
   ]
  },
  {
   "cell_type": "markdown",
   "metadata": {},
   "source": [
    "**Conclusion**"
   ]
  },
  {
   "cell_type": "markdown",
   "metadata": {},
   "source": [
    "This model project has showed us how the presence of externalities in a market can cause differences between the market optimum and the social optimum. The larger the externality cost, the larger the difference between these two optimums will be. This is a very relevant insight as many parts of the real world economy are faced with similar issues, where many agents' behavior and incentives contradicts with what the society desires as a whole.\n",
    "\n",
    "In the final part of the project, we introduced an instrument to fix potential market inefficiencies and lead the agents in the market towards the social optimum of goods traded. Of course this is a simple microeconomic setup, and in the real world it is impossible to identify the optimal size of the Pigouvian tax, as the exact desires and incentives from the agents of the economy are unknown. However, this tax is an effective way to reduce market inefficiencies, though it is impossible to get rid of all of them."
   ]
  }
 ],
 "metadata": {
  "kernelspec": {
   "display_name": "Python 3",
   "language": "python",
   "name": "python3"
  },
  "language_info": {
   "codemirror_mode": {
    "name": "ipython",
    "version": 3
   },
   "file_extension": ".py",
   "mimetype": "text/x-python",
   "name": "python",
   "nbconvert_exporter": "python",
   "pygments_lexer": "ipython3",
   "version": "3.7.1"
  }
 },
 "nbformat": 4,
 "nbformat_minor": 2
}
