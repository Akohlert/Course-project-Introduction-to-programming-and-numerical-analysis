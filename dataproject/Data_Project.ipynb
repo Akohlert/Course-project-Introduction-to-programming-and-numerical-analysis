#Setup
import pandas as pd
import numpy as np 
import matplotlib.pyplot as plt 

#Import pandas_datareader by typing in a terminal: "pip install pandas-datareader"
import pandas_datareader
from pandas_datareader import wb
import seaborn as sns

#Downloading inflation and unemployment data from World Bank
cntr = ['DK','SE','NO','US','FR','NL','DE','GB','EU'] #Country group 1: selected developed countries
cntr1 = ['MX','IN','BR','ID','KE','LY','MY','NG'] #Country group 2: selected developing countries
infl = wb.download(indicator='FP.CPI.TOTL.ZG', country=cntr, start=1991, end=2017)
unem = wb.download(indicator='SL.UEM.TOTL.ZS', country=cntr, start=1991, end=2017)

#Data manipulation
merge = pd.concat([infl, unem], axis=1)
merge = merge.reset_index()
merge.columns = ['country', 'year', 'inflation', 'unemployment']
merge.year = merge.year.astype(int)

#Data description
mean_infl = merge.groupby("country")['inflation'].mean()
median_infl = merge.groupby("country")['inflation'].median()
mean_unem = merge.groupby("country")['unemployment'].mean()
median_unem = merge.groupby("country")['unemployment'].median()

tabel = pd.concat([mean_infl, median_infl, mean_unem, median_unem], axis=1)
tabel.columns = ['Average inflation', 'Median inflation', 'Average unemployment', 'Median unemployment']
tabel

#Plots
z = merge.set_index('year').groupby('country')['inflation'].plot(legend=True)

y = merge.set_index('year').groupby('country')['unemployment'].plot(legend=True)

sns.set_style("whitegrid")
g = sns.FacetGrid(merge, col='country', hue='country', col_wrap=4, palette="deep")
g = g.map(plt.plot, 'year', 'inflation')
g = g.map(plt.fill_between, 'year', 'inflation', alpha=0.2).set_titles("{col_name}") # draw the underlying area 

f = sns.FacetGrid(merge, col='country', hue='country', col_wrap=4, palette="deep")
f = f.map(plt.plot, 'year', 'unemployment')
f = f.map(plt.fill_between, 'year', 'unemployment', alpha=0.2).set_titles("{col_name}") # draw the underlying area 

h = sns.FacetGrid(merge, col='country', hue='country', col_wrap=4, palette="deep")
h = h.map(plt.plot, 'unemployment', 'inflation').set_titles("{col_name}") # draw the underlying area
